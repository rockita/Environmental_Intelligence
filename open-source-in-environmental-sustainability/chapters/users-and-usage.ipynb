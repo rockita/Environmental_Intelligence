{
  "cells": [
    {
      "cell_type": "markdown",
      "metadata": {
        "id": "RCocj1EkQVUC"
      },
      "source": [
        "# Users and Usage\n",
        "\n",
        "<!-- \n",
        "- Users: Who the users are (contributors vs end users)?\n",
        "- Usage: How are users are using OSS?\n",
        "- Value: What is the use value and impact?\n",
        "-->\n",
        "\n",
        "The demand for OSS is everywhere, though its users and usage is not always apparent. Recent reports estimate that 95-97%<sup><a href=\"https://www.synopsys.com/blogs/software-security/open-source-trends-ossra-report/\">1</a></sup><sup>,</sup><sup><a href=\"https://www.gartner.com/en/documents/3891628\">2</a></sup> of mainstream IT organisations leverage nontrivial OSS assets within their mission-critical IT portfolios, whether they know it or not. Meanwhile, internal government policy is emerging in the USA and EU, \"encouraging and leveraging the transformative, innovative and collaborative power of open source, its principles and development practices.\"<sup><a href=\"https://commission.europa.eu/about-european-commission/departments-and-executive-agencies/informatics/open-source-software-strategy_en\">3</a></sup>, with more-and-more government agencies adopting OSS within their operations – including many of the identified projects within this report. When it comes to sustainability, however, there is much potential yet to be realised. While tracking outcomes and impacts associated with OSS remains challenging, the following trends highlight the importance of open source within environmental sustainability for fellow contributors, end users, and greater society."
      ]
    },
    {
      "cell_type": "markdown",
      "metadata": {
        "id": "6wS84_ECQVUE"
      },
      "source": [
        "## Contributors\n",
        "\n",
        "Since open source is free to acquire and freely available, its ultimate use is difficult to track. Much of the open source usage arises in integrating libraries or APIs as dependencies of other software projects. Importantly, this dependency on OSS will not be apparent to many users; especially in closed-source software, where the dependency on OSS is not always made evident. Users act as evangelists by sharing OSS with other users or organisations that can benefit from it, and in return provide valuable feedback and expertise.\n",
        "\n",
        "Project usage data from public software development and version control platforms remains scarce. GitHub, unfortunately, offers little support in compiling accurate statistics. Additionally, statistics on package manager downloads are not universally available and must be obtained through the various platforms and their APIs. While this is technically possible, it was not feasible given the study's limited resources and timeframe. However, with the limited data obtained from the Python ecosystem, it was possible to identify individual projects with a high circulation but a low [DDS](./development-distribution-score.ipynb) score. Here projects like [cfgrib](https://github.com/ecmwf/cfgrib), [sentinelhub-py](https://github.com/sentinel-hub/sentinelhub-py) or [Meteostat](https://github.com/meteostat/meteostat-python) stand out. Those projects widely used and depend highly on the goodwill of a single developer. The median DDS of 0.436 over the 50 most used Python projects indicates that the burden still lies with a few strong contributors leading the development.\n",
        "\n",
        "The user community of major projects in energy and battery modelling, such as [PyBaMM](https://github.com/pybamm-team/PyBaMM) and [PyPSA](https://github.com/PyPSA/PyPSA), is split relatively evenly between academia and industry, with fewer users coming from NGOs and independent consultancies. In some cases, industry can drive explosive user growth. For example, over a five-year period, pvlib-python saw thousands of downloads per month. This was driven primarily by several commercial firms who integrated the library into their software products, effectively distributing pvlib-python to their clients."
      ]
    },
    {
      "cell_type": "code",
      "execution_count": null,
      "metadata": {
        "tags": [
          "remove-cell"
        ],
        "id": "rmVT2uqLQVUE"
      },
      "outputs": [],
      "source": [
        "import numpy as np\n",
        "import pandas as pd\n",
        "import plotly.io as pio\n",
        "import plotly.graph_objects as go\n",
        "import plotly.express as px\n",
        "from opensustainTemplate import *"
      ]
    },
    {
      "cell_type": "code",
      "execution_count": null,
      "metadata": {
        "tags": [
          "remove-cell"
        ],
        "id": "gEL4QiPhQVUF"
      },
      "outputs": [],
      "source": [
        "def count_strings(comma_seperated_string):\n",
        "    \"\"\"Count number of delimiters (commas) in a string\n",
        "    Arguments:\n",
        "        comma_seperated_string - a string containing commas\n",
        "    Outputs:\n",
        "        A number (int) of commas found in comma_seperated_string\n",
        "\n",
        "    \"\"\"\n",
        "\n",
        "    if type(comma_seperated_string) == str:\n",
        "        return comma_seperated_string.count(\",\")\n",
        "    else:\n",
        "        return 0"
      ]
    },
    {
      "cell_type": "code",
      "execution_count": null,
      "metadata": {
        "tags": [
          "remove-cell"
        ],
        "id": "3ElFUMgfQVUF"
      },
      "outputs": [],
      "source": [
        "df_active = pd.read_csv(\"../csv/project_analysis.csv\")"
      ]
    },
    {
      "cell_type": "code",
      "execution_count": null,
      "metadata": {
        "tags": [
          "remove-input"
        ],
        "id": "AT5qmyswQVUF"
      },
      "outputs": [],
      "source": [
        "df_active[\"dependents_count\"] = df_active[\"dependents_repos\"].apply(count_strings)\n",
        "\n",
        "most_dependent_projects = df_active.nlargest(50, \"dependents_count\")\n",
        "\n",
        "# The API gives wrong numbers for this project:\n",
        "most_dependent_projects = most_dependent_projects[\n",
        "    most_dependent_projects[\"git_url\"] != \"https://github.com/Open-MSS/MSS.git\"\n",
        "]\n",
        "\n",
        "fig = px.bar(\n",
        "    most_dependent_projects,\n",
        "    x=most_dependent_projects[\"dependents_count\"],\n",
        "    y=most_dependent_projects[\"project_name\"],\n",
        "    orientation=\"h\",\n",
        "    custom_data=[\"oneliner\", \"topic\", \"git_url\"],\n",
        "    color=most_dependent_projects[\"development_distribution_score\"],\n",
        "    color_continuous_scale=color_continuous_scale,\n",
        ")\n",
        "\n",
        "fig.update_layout(\n",
        "    height=1200,  # Added parameter\n",
        "    width=700,\n",
        "    yaxis_title=None,\n",
        "    xaxis_title=\"Dependents\",\n",
        "    title=\"Python projects most frequently used as dependencies\",\n",
        "    coloraxis_colorbar=dict(\n",
        "        title=\"DDS\",\n",
        "        orientation='h',\n",
        "        y=-0.15\n",
        "    ),\n",
        "    hoverlabel=dict(\n",
        "        bgcolor=\"white\",\n",
        "    ),\n",
        ")\n",
        "\n",
        "\n",
        "fig.update_traces(\n",
        "    hovertemplate=\"<br>\".join(\n",
        "        [\n",
        "            \"Project Info: <b>%{customdata[0]}</b>\",\n",
        "            \"Topic: <b>%{customdata[1]}</b>\",\n",
        "            \"Git URL: <b>%{customdata[2]}</b>\",\n",
        "        ]\n",
        "    )\n",
        ")\n",
        "fig.add_layout_image(\n",
        "    dict(\n",
        "        source=\"logo_img\",\n",
        "        xref=\"paper\",\n",
        "        yref=\"paper\",\n",
        "        x=1,\n",
        "        y=0,\n",
        "        sizex=0.05,\n",
        "        sizey=0.05,\n",
        "        xanchor=\"right\",\n",
        "        yanchor=\"bottom\",\n",
        "    )\n",
        ")\n",
        "fig[\"layout\"][\"yaxis\"][\"autorange\"] = \"reversed\"\n",
        "fig.show()"
      ]
    },
    {
      "cell_type": "markdown",
      "metadata": {
        "id": "FKkZRnMaQVUF"
      },
      "source": [
        "```{figure} data:image/gif;base64,R0lGODlhAQABAIAAAAAAAP///yH5BAEAAAAALAAAAAABAAEAAAIBRAA7\n",
        ":figclass: caption-hack\n",
        ":name: python-dependencies\n",
        "\n",
        "<br/>Python Projects most frequently used as dependencies\n",
        "```"
      ]
    },
    {
      "cell_type": "markdown",
      "metadata": {
        "id": "bJgn_1WAQVUG"
      },
      "source": [
        "## End Users\n",
        "\n",
        "Capturing the end users and ulitmate use of OSS remains challenging. Due to the complexity of tracing and tracking the cause-effect chain within socio-technical-ecological systems, this report does not attempt to provide an exhaustive evaluation of impact (neither social, economic, nor environmental) of Open Sustainability approaches. Rather, throughout the report, we provide key examples of projects whose outputs indicate a significate capacity towards, and demostrate allignment with the direction of science-based impact. While many of the identified open source projects contribute to supporting and accelerating sustainable outcomes, some contributions are more evident than others. In this section, we higlight several of these.\n",
        "\n",
        "One particularly impactful project is [pyam](https://github.com/IAMconsortium/pyam) led by the Integrated Assessment Modeling Consortium (IAMC). This project played a fundamental role in the recently published [IPCC's Special Report on Global Warming of 1.5°C (SR15)](https://www.ipcc.ch/sr15/). A Scenario Explorer, produced by pyam, presents an ensemble of quantitative, model-based climate change mitigation pathways underpinning the report. This report has been since [cited 106 times](https://www.cambridge.org/core/books/global-warming-of-15c/D7455D42B4C820E706A03A169B1893FA) and continues to inform governments and decision-makers world-wide.\n",
        "\n",
        "<!-- TODO: add additional examples -->\n",
        "\n",
        "<!-- TODO: move to ecosystem-collaborations? -->\n",
        "\n",
        "The adoption of open source software and its priciples is rarely reflected within offical government policy. However, several promising developments can be found. In 2016, the USA Government published a federal source code policy<sup><a href=\"https://www.cio.gov/2016/08/11/peoples-code.html\">4</a></sup>. This policy mandates at least 20% of custom source code developed by USA federal agencies must be released as OSS and shared between agencies. Meanwhile, the European Commussion's internal Open Source Software Strategy \"promotes the sharing and reuse of software solutions, knowledge and expertise, to deliver better European services that benefit society and lower costs to society.\"<sup><a href=\"https://commission.europa.eu/about-european-commission/departments-and-executive-agencies/informatics/open-source-software-strategy_en\">3</a></sup>. While not exlusive to sustainability, this policy development acknowledges the potential for impact in this area.\n",
        "\n",
        "### Monetary Value\n",
        "\n",
        "There are few public reports avaliable which assess the economic impact of open source software. While open source business models, including the commonly used premium model, are unlikely to capture the total value that OSS contributes to society, recent research into the economic contributions of open source can provide a rough indication. A 2021 [study](https://digital-strategy.ec.europa.eu/en/library/study-about-impact-open-source-software-and-hardware-technological-independence-competitiveness-and) on the economic impact of open source software and hardware concluded that open source technologies injected **€65-95 billion** into the European economy. Open source significantly boosted small and mid-size enterprises – Europe’s most important horizontal economic stakeholders – reflected in the increased creation of more than 650 technology startups per year. While it is currently unknown to what extent open source has contributed to environmental sustainability, or what its potential economic impact is, we anticipate the monetary value to be several orders of magnitude greater."
      ]
    },
    {
      "cell_type": "markdown",
      "metadata": {
        "id": "WccFK9g8QVUG"
      },
      "source": [
        "### Going Foward\n",
        "\n",
        "In future studies, it will be essential to use the various metrics and methods we have created in a targeted way. For example, by identifying projects that have high [usage](./users-and-usage.ipynb), fast [growth](./growth.ipynb) and low [DDS](./development-distribution-score.ipynb), we can conduct targeted interviews to pinpoint key users and usage patterns, assess direct and indirect impact, and evaluate ways of supporting effective projects. Until this time, we have considered several proxy methods to help paint a picture of what is possible."
      ]
    }
  ],
  "metadata": {
    "celltoolbar": "Tags",
    "kernelspec": {
      "display_name": "Python 3 (ipykernel)",
      "language": "python",
      "name": "python3"
    },
    "language_info": {
      "codemirror_mode": {
        "name": "ipython",
        "version": 3
      },
      "file_extension": ".py",
      "mimetype": "text/x-python",
      "name": "python",
      "nbconvert_exporter": "python",
      "pygments_lexer": "ipython3",
      "version": "3.8.10 (default, Nov 14 2022, 12:59:47) \n[GCC 9.4.0]"
    },
    "tags": "full-width",
    "vscode": {
      "interpreter": {
        "hash": "e7370f93d1d0cde622a1f8e1c04877d8463912d04d973331ad4851f04de6915a"
      }
    },
    "colab": {
      "provenance": []
    }
  },
  "nbformat": 4,
  "nbformat_minor": 0
}